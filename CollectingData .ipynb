{
 "cells": [
  {
   "cell_type": "code",
   "execution_count": null,
   "metadata": {},
   "outputs": [],
   "source": [
    "## collecting data using the reddit api"
   ]
  },
  {
   "cell_type": "code",
   "execution_count": null,
   "metadata": {},
   "outputs": [],
   "source": [
    "import praw\n",
    "import numpy as np\n",
    "import pandas as pd\n",
    "import requests"
   ]
  },
  {
   "cell_type": "code",
   "execution_count": null,
   "metadata": {},
   "outputs": [],
   "source": [
    "reddit = praw.Reddit(client_id='#',\n",
    "                     client_secret='#',\n",
    "                     username = \"#\",\n",
    "                     password = \"#\",\n",
    "                     user_agent='#')"
   ]
  },
  {
   "cell_type": "code",
   "execution_count": null,
   "metadata": {},
   "outputs": [],
   "source": [
    "print(reddit.user.me())"
   ]
  },
  {
   "cell_type": "code",
   "execution_count": null,
   "metadata": {},
   "outputs": [],
   "source": [
    "list_of_flairs = [\"Scheduled\",\"Politics\",\"Photography\",\"Policy/Economy\",\n",
    "          \"AskIndia\",\"Sports\",\"Non-Political\",\"Science/Technology\",\n",
    "          \"Food\",\"Business/Finance\",\"Coronavirus\"]"
   ]
  },
  {
   "cell_type": "code",
   "execution_count": null,
   "metadata": {},
   "outputs": [],
   "source": [
    "subreddit = reddit.subreddit('india')\n",
    "data = {\"flair\":[], \"title\": [], \"created\": [], \"author\": [], \"No. of comments\": [],\n",
    "        \"url\": [], \"body\": [], \"score\" : [], \"id\" :[]} # data containing diffrent attributes of a post of a particular flair\n",
    "comments = {\"flair\": [], \"body\" :[]}  # another data containing only comments for respective flairs\n",
    "for flair in list_of_flairs:\n",
    "    list_of_items = subreddit.search(flair, limit=500)\n",
    "    for item in list_of_items:\n",
    "        data[\"flair\"].append(flair)\n",
    "        data[\"title\"].append(item.title)\n",
    "        data[\"created\"].append(item.created)\n",
    "        data[\"author\"].append(item.author)\n",
    "        data[\"No. of comments\"].append(item.num_comments)\n",
    "        data[\"url\"].append(item.url)\n",
    "        data[\"body\"].append(item.selftext)\n",
    "        data[\"score\"].append(item.score)\n",
    "        data[\"id\"].append(item.id)\n",
    "        \n",
    "        comments[\"flair\"].append(flair)\n",
    "        item.comments.replace_more(limit=None)\n",
    "        comment = ''\n",
    "        for top_level_comment in item.comments:\n",
    "            comment = comment + '' + top_level_comment.body\n",
    "        comments[\"body\"].append(comment)"
   ]
  },
  {
   "cell_type": "markdown",
   "metadata": {},
   "source": [
    "## Creating a dataframe with the following data:\n",
    "\n",
    "1. flair\n",
    "2. title\n",
    "3. created \n",
    "4. author\n",
    "5. No. of comments\n",
    "6. url\n",
    "7. body\n",
    "8. score\n",
    "9. id"
   ]
  },
  {
   "cell_type": "code",
   "execution_count": null,
   "metadata": {},
   "outputs": [],
   "source": [
    "df = pd.DataFrame(data)\n"
   ]
  },
  {
   "cell_type": "markdown",
   "metadata": {},
   "source": [
    "## Creating another dataframe containing comments"
   ]
  },
  {
   "cell_type": "code",
   "execution_count": null,
   "metadata": {},
   "outputs": [],
   "source": [
    "df2 = pd.DataFrame(comments)\n",
    "df2"
   ]
  },
  {
   "cell_type": "markdown",
   "metadata": {},
   "source": [
    "## Saving data as csv files"
   ]
  },
  {
   "cell_type": "code",
   "execution_count": null,
   "metadata": {},
   "outputs": [],
   "source": [
    "df.to_csv(\"data3.csv\", index = False, header = True)"
   ]
  },
  {
   "cell_type": "code",
   "execution_count": null,
   "metadata": {},
   "outputs": [],
   "source": [
    "df2.to_csv(\"data4.csv\", index = False, header = True)"
   ]
  }
 ],
 "metadata": {
  "kernelspec": {
   "display_name": "Python 3",
   "language": "python",
   "name": "python3"
  },
  "language_info": {
   "codemirror_mode": {
    "name": "ipython",
    "version": 3
   },
   "file_extension": ".py",
   "mimetype": "text/x-python",
   "name": "python",
   "nbconvert_exporter": "python",
   "pygments_lexer": "ipython3",
   "version": "3.7.3"
  }
 },
 "nbformat": 4,
 "nbformat_minor": 4
}
